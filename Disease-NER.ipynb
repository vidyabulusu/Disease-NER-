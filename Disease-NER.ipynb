{
 "cells": [
  {
   "attachments": {},
   "cell_type": "markdown",
   "metadata": {},
   "source": [
    "# NER Disease Name Recognition using NCBI-disease dataset"
   ]
  },
  {
   "attachments": {},
   "cell_type": "markdown",
   "metadata": {},
   "source": [
    "### Imports"
   ]
  },
  {
   "cell_type": "code",
   "execution_count": 1,
   "metadata": {},
   "outputs": [],
   "source": [
    "import re\n",
    "import string\n",
    "import torch\n",
    "import numpy as np\n",
    "import pandas as pd\n",
    "import seqeval\n",
    "import tensorflow as tf\n",
    "from seqeval.metrics import accuracy_score\n",
    "from nltk.corpus import stopwords\n",
    "from datasets import load_dataset\n",
    "from transformers import BertTokenizer, AdamW\n",
    "from transformers import BertForTokenClassification, DistilBertTokenizer, TFDistilBertModel, DistilBertForTokenClassification, DistilBertConfig, DistilBertTokenizerFast\n",
    "from torch.utils.data import TensorDataset, DataLoader, RandomSampler, SequentialSampler\n",
    "from torch.nn import CrossEntropyLoss \n",
    "from seqeval.metrics  import accuracy_score\n",
    "from torchmetrics import AUROC\n",
    "from sklearn.metrics import classification_report"
   ]
  },
  {
   "cell_type": "code",
   "execution_count": 2,
   "metadata": {},
   "outputs": [],
   "source": [
    "import matplotlib.pyplot as plt\n",
    "%matplotlib inline\n",
    "import seaborn as sns"
   ]
  },
  {
   "cell_type": "code",
   "execution_count": 3,
   "metadata": {},
   "outputs": [],
   "source": [
    "import NanoBERT.nanobert.modeling as nano"
   ]
  },
  {
   "attachments": {},
   "cell_type": "markdown",
   "metadata": {},
   "source": [
    "### Load Data"
   ]
  },
  {
   "cell_type": "code",
   "execution_count": 4,
   "metadata": {},
   "outputs": [
    {
     "name": "stderr",
     "output_type": "stream",
     "text": [
      "Found cached dataset ncbi_disease (/Users/vidyabulusu/.cache/huggingface/datasets/ncbi_disease/ncbi_disease/1.0.0/92314c7992b0b8a5ea2ad101be33f365b684a2cc011e0ffa29c691e6d32b2d03)\n",
      "Found cached dataset ncbi_disease (/Users/vidyabulusu/.cache/huggingface/datasets/ncbi_disease/ncbi_disease/1.0.0/92314c7992b0b8a5ea2ad101be33f365b684a2cc011e0ffa29c691e6d32b2d03)\n",
      "Found cached dataset ncbi_disease (/Users/vidyabulusu/.cache/huggingface/datasets/ncbi_disease/ncbi_disease/1.0.0/92314c7992b0b8a5ea2ad101be33f365b684a2cc011e0ffa29c691e6d32b2d03)\n"
     ]
    }
   ],
   "source": [
    "train_set = load_dataset(\"ncbi_disease\", revision=\"main\", split='train')\n",
    "val_set = load_dataset(\"ncbi_disease\", revision=\"main\", split='validation')\n",
    "test_set = load_dataset(\"ncbi_disease\", revision=\"main\", split='test')"
   ]
  },
  {
   "cell_type": "code",
   "execution_count": 5,
   "metadata": {},
   "outputs": [
    {
     "data": {
      "text/html": [
       "<div>\n",
       "<style scoped>\n",
       "    .dataframe tbody tr th:only-of-type {\n",
       "        vertical-align: middle;\n",
       "    }\n",
       "\n",
       "    .dataframe tbody tr th {\n",
       "        vertical-align: top;\n",
       "    }\n",
       "\n",
       "    .dataframe thead th {\n",
       "        text-align: right;\n",
       "    }\n",
       "</style>\n",
       "<table border=\"1\" class=\"dataframe\">\n",
       "  <thead>\n",
       "    <tr style=\"text-align: right;\">\n",
       "      <th></th>\n",
       "      <th>id</th>\n",
       "      <th>tokens</th>\n",
       "      <th>ner_tags</th>\n",
       "    </tr>\n",
       "  </thead>\n",
       "  <tbody>\n",
       "    <tr>\n",
       "      <th>0</th>\n",
       "      <td>0</td>\n",
       "      <td>[Identification, of, APC2, ,, a, homologue, of...</td>\n",
       "      <td>[0, 0, 0, 0, 0, 0, 0, 0, 1, 2, 2, 2, 0, 0]</td>\n",
       "    </tr>\n",
       "    <tr>\n",
       "      <th>1</th>\n",
       "      <td>1</td>\n",
       "      <td>[The, adenomatous, polyposis, coli, (, APC, ),...</td>\n",
       "      <td>[0, 1, 2, 2, 2, 2, 2, 2, 0, 0, 0, 0, 0, 0, 0, ...</td>\n",
       "    </tr>\n",
       "    <tr>\n",
       "      <th>2</th>\n",
       "      <td>2</td>\n",
       "      <td>[Complex, formation, induces, the, rapid, degr...</td>\n",
       "      <td>[0, 0, 0, 0, 0, 0, 0, 0, 0]</td>\n",
       "    </tr>\n",
       "    <tr>\n",
       "      <th>3</th>\n",
       "      <td>3</td>\n",
       "      <td>[In, colon, carcinoma, cells, ,, loss, of, APC...</td>\n",
       "      <td>[0, 1, 2, 0, 0, 0, 0, 0, 0, 0, 0, 0, 0, 0, 0, ...</td>\n",
       "    </tr>\n",
       "    <tr>\n",
       "      <th>4</th>\n",
       "      <td>4</td>\n",
       "      <td>[Here, ,, we, report, the, identification, and...</td>\n",
       "      <td>[0, 0, 0, 0, 0, 0, 0, 0, 0, 0, 0, 0, 0]</td>\n",
       "    </tr>\n",
       "    <tr>\n",
       "      <th>...</th>\n",
       "      <td>...</td>\n",
       "      <td>...</td>\n",
       "      <td>...</td>\n",
       "    </tr>\n",
       "    <tr>\n",
       "      <th>5428</th>\n",
       "      <td>5428</td>\n",
       "      <td>[Here, ,, we, show, that, retroviral, transfer...</td>\n",
       "      <td>[0, 0, 0, 0, 0, 0, 0, 0, 0, 0, 0, 0, 0, 0, 0, ...</td>\n",
       "    </tr>\n",
       "    <tr>\n",
       "      <th>5429</th>\n",
       "      <td>5429</td>\n",
       "      <td>[Mutant, BRCA1, has, no, effect, on, growth, o...</td>\n",
       "      <td>[0, 0, 0, 0, 0, 0, 0, 0, 1, 2, 0, 0, 1, 2, 0, ...</td>\n",
       "    </tr>\n",
       "    <tr>\n",
       "      <th>5430</th>\n",
       "      <td>5430</td>\n",
       "      <td>[Development, of, MCF, -, 7, tumours, in, nude...</td>\n",
       "      <td>[0, 0, 1, 2, 2, 2, 0, 0, 0, 0, 0, 0, 0, 0, 0, ...</td>\n",
       "    </tr>\n",
       "    <tr>\n",
       "      <th>5431</th>\n",
       "      <td>5431</td>\n",
       "      <td>[Most, importantly, ,, among, mice, with, esta...</td>\n",
       "      <td>[0, 0, 0, 0, 0, 0, 0, 1, 2, 2, 2, 0, 0, 0, 0, ...</td>\n",
       "    </tr>\n",
       "    <tr>\n",
       "      <th>5432</th>\n",
       "      <td>5432</td>\n",
       "      <td>[]</td>\n",
       "      <td>[]</td>\n",
       "    </tr>\n",
       "  </tbody>\n",
       "</table>\n",
       "<p>5433 rows × 3 columns</p>\n",
       "</div>"
      ],
      "text/plain": [
       "        id                                             tokens  \\\n",
       "0        0  [Identification, of, APC2, ,, a, homologue, of...   \n",
       "1        1  [The, adenomatous, polyposis, coli, (, APC, ),...   \n",
       "2        2  [Complex, formation, induces, the, rapid, degr...   \n",
       "3        3  [In, colon, carcinoma, cells, ,, loss, of, APC...   \n",
       "4        4  [Here, ,, we, report, the, identification, and...   \n",
       "...    ...                                                ...   \n",
       "5428  5428  [Here, ,, we, show, that, retroviral, transfer...   \n",
       "5429  5429  [Mutant, BRCA1, has, no, effect, on, growth, o...   \n",
       "5430  5430  [Development, of, MCF, -, 7, tumours, in, nude...   \n",
       "5431  5431  [Most, importantly, ,, among, mice, with, esta...   \n",
       "5432  5432                                                 []   \n",
       "\n",
       "                                               ner_tags  \n",
       "0            [0, 0, 0, 0, 0, 0, 0, 0, 1, 2, 2, 2, 0, 0]  \n",
       "1     [0, 1, 2, 2, 2, 2, 2, 2, 0, 0, 0, 0, 0, 0, 0, ...  \n",
       "2                           [0, 0, 0, 0, 0, 0, 0, 0, 0]  \n",
       "3     [0, 1, 2, 0, 0, 0, 0, 0, 0, 0, 0, 0, 0, 0, 0, ...  \n",
       "4               [0, 0, 0, 0, 0, 0, 0, 0, 0, 0, 0, 0, 0]  \n",
       "...                                                 ...  \n",
       "5428  [0, 0, 0, 0, 0, 0, 0, 0, 0, 0, 0, 0, 0, 0, 0, ...  \n",
       "5429  [0, 0, 0, 0, 0, 0, 0, 0, 1, 2, 0, 0, 1, 2, 0, ...  \n",
       "5430  [0, 0, 1, 2, 2, 2, 0, 0, 0, 0, 0, 0, 0, 0, 0, ...  \n",
       "5431  [0, 0, 0, 0, 0, 0, 0, 1, 2, 2, 2, 0, 0, 0, 0, ...  \n",
       "5432                                                 []  \n",
       "\n",
       "[5433 rows x 3 columns]"
      ]
     },
     "execution_count": 5,
     "metadata": {},
     "output_type": "execute_result"
    }
   ],
   "source": [
    "data = train_set.to_pandas()\n",
    "data"
   ]
  },
  {
   "attachments": {},
   "cell_type": "markdown",
   "metadata": {},
   "source": [
    "This dataset has already been cleaned and tokenized. Hence, there is no need to do preprocessing. Also, the length of the ner_tags match the length of the corresponding tokens. Hence, cleaning and removing stop-words / punctuation will result in erroneous metrics."
   ]
  },
  {
   "cell_type": "code",
   "execution_count": 6,
   "metadata": {},
   "outputs": [
    {
     "data": {
      "text/plain": [
       "(array(['A', 'common', 'MSH2', 'mutation', 'in', 'English', 'and', 'North',\n",
       "        'American', 'HNPCC', 'families', ':', 'origin', ',', 'phenotypic',\n",
       "        'expression', ',', 'and', 'sex', 'specific', 'differences', 'in',\n",
       "        'colorectal', 'cancer', '.'], dtype=object),\n",
       " array([0, 0, 0, 0, 0, 0, 0, 0, 0, 1, 0, 0, 0, 0, 0, 0, 0, 0, 0, 0, 0, 0,\n",
       "        1, 2, 0]),\n",
       " 25,\n",
       " 25)"
      ]
     },
     "execution_count": 6,
     "metadata": {},
     "output_type": "execute_result"
    }
   ],
   "source": [
    "data.tokens[10], data.ner_tags[10], len(data.tokens[10]), len(data.ner_tags[10]) "
   ]
  },
  {
   "attachments": {},
   "cell_type": "markdown",
   "metadata": {},
   "source": [
    "Delete rows with empty tags"
   ]
  },
  {
   "cell_type": "code",
   "execution_count": 7,
   "metadata": {},
   "outputs": [
    {
     "data": {
      "text/html": [
       "<div>\n",
       "<style scoped>\n",
       "    .dataframe tbody tr th:only-of-type {\n",
       "        vertical-align: middle;\n",
       "    }\n",
       "\n",
       "    .dataframe tbody tr th {\n",
       "        vertical-align: top;\n",
       "    }\n",
       "\n",
       "    .dataframe thead th {\n",
       "        text-align: right;\n",
       "    }\n",
       "</style>\n",
       "<table border=\"1\" class=\"dataframe\">\n",
       "  <thead>\n",
       "    <tr style=\"text-align: right;\">\n",
       "      <th></th>\n",
       "      <th>id</th>\n",
       "      <th>tokens</th>\n",
       "      <th>ner_tags</th>\n",
       "    </tr>\n",
       "  </thead>\n",
       "  <tbody>\n",
       "    <tr>\n",
       "      <th>0</th>\n",
       "      <td>0</td>\n",
       "      <td>[Identification, of, APC2, ,, a, homologue, of...</td>\n",
       "      <td>[0, 0, 0, 0, 0, 0, 0, 0, 1, 2, 2, 2, 0, 0]</td>\n",
       "    </tr>\n",
       "    <tr>\n",
       "      <th>1</th>\n",
       "      <td>1</td>\n",
       "      <td>[The, adenomatous, polyposis, coli, (, APC, ),...</td>\n",
       "      <td>[0, 1, 2, 2, 2, 2, 2, 2, 0, 0, 0, 0, 0, 0, 0, ...</td>\n",
       "    </tr>\n",
       "    <tr>\n",
       "      <th>2</th>\n",
       "      <td>2</td>\n",
       "      <td>[Complex, formation, induces, the, rapid, degr...</td>\n",
       "      <td>[0, 0, 0, 0, 0, 0, 0, 0, 0]</td>\n",
       "    </tr>\n",
       "    <tr>\n",
       "      <th>3</th>\n",
       "      <td>3</td>\n",
       "      <td>[In, colon, carcinoma, cells, ,, loss, of, APC...</td>\n",
       "      <td>[0, 1, 2, 0, 0, 0, 0, 0, 0, 0, 0, 0, 0, 0, 0, ...</td>\n",
       "    </tr>\n",
       "    <tr>\n",
       "      <th>4</th>\n",
       "      <td>4</td>\n",
       "      <td>[Here, ,, we, report, the, identification, and...</td>\n",
       "      <td>[0, 0, 0, 0, 0, 0, 0, 0, 0, 0, 0, 0, 0]</td>\n",
       "    </tr>\n",
       "    <tr>\n",
       "      <th>...</th>\n",
       "      <td>...</td>\n",
       "      <td>...</td>\n",
       "      <td>...</td>\n",
       "    </tr>\n",
       "    <tr>\n",
       "      <th>5427</th>\n",
       "      <td>5427</td>\n",
       "      <td>[Inherited, mutations, in, BRCA1, predispose, ...</td>\n",
       "      <td>[0, 0, 0, 0, 0, 0, 1, 2, 2, 2, 0, 0, 0, 0, 0, ...</td>\n",
       "    </tr>\n",
       "    <tr>\n",
       "      <th>5428</th>\n",
       "      <td>5428</td>\n",
       "      <td>[Here, ,, we, show, that, retroviral, transfer...</td>\n",
       "      <td>[0, 0, 0, 0, 0, 0, 0, 0, 0, 0, 0, 0, 0, 0, 0, ...</td>\n",
       "    </tr>\n",
       "    <tr>\n",
       "      <th>5429</th>\n",
       "      <td>5429</td>\n",
       "      <td>[Mutant, BRCA1, has, no, effect, on, growth, o...</td>\n",
       "      <td>[0, 0, 0, 0, 0, 0, 0, 0, 1, 2, 0, 0, 1, 2, 0, ...</td>\n",
       "    </tr>\n",
       "    <tr>\n",
       "      <th>5430</th>\n",
       "      <td>5430</td>\n",
       "      <td>[Development, of, MCF, -, 7, tumours, in, nude...</td>\n",
       "      <td>[0, 0, 1, 2, 2, 2, 0, 0, 0, 0, 0, 0, 0, 0, 0, ...</td>\n",
       "    </tr>\n",
       "    <tr>\n",
       "      <th>5431</th>\n",
       "      <td>5431</td>\n",
       "      <td>[Most, importantly, ,, among, mice, with, esta...</td>\n",
       "      <td>[0, 0, 0, 0, 0, 0, 0, 1, 2, 2, 2, 0, 0, 0, 0, ...</td>\n",
       "    </tr>\n",
       "  </tbody>\n",
       "</table>\n",
       "<p>5432 rows × 3 columns</p>\n",
       "</div>"
      ],
      "text/plain": [
       "        id                                             tokens  \\\n",
       "0        0  [Identification, of, APC2, ,, a, homologue, of...   \n",
       "1        1  [The, adenomatous, polyposis, coli, (, APC, ),...   \n",
       "2        2  [Complex, formation, induces, the, rapid, degr...   \n",
       "3        3  [In, colon, carcinoma, cells, ,, loss, of, APC...   \n",
       "4        4  [Here, ,, we, report, the, identification, and...   \n",
       "...    ...                                                ...   \n",
       "5427  5427  [Inherited, mutations, in, BRCA1, predispose, ...   \n",
       "5428  5428  [Here, ,, we, show, that, retroviral, transfer...   \n",
       "5429  5429  [Mutant, BRCA1, has, no, effect, on, growth, o...   \n",
       "5430  5430  [Development, of, MCF, -, 7, tumours, in, nude...   \n",
       "5431  5431  [Most, importantly, ,, among, mice, with, esta...   \n",
       "\n",
       "                                               ner_tags  \n",
       "0            [0, 0, 0, 0, 0, 0, 0, 0, 1, 2, 2, 2, 0, 0]  \n",
       "1     [0, 1, 2, 2, 2, 2, 2, 2, 0, 0, 0, 0, 0, 0, 0, ...  \n",
       "2                           [0, 0, 0, 0, 0, 0, 0, 0, 0]  \n",
       "3     [0, 1, 2, 0, 0, 0, 0, 0, 0, 0, 0, 0, 0, 0, 0, ...  \n",
       "4               [0, 0, 0, 0, 0, 0, 0, 0, 0, 0, 0, 0, 0]  \n",
       "...                                                 ...  \n",
       "5427  [0, 0, 0, 0, 0, 0, 1, 2, 2, 2, 0, 0, 0, 0, 0, ...  \n",
       "5428  [0, 0, 0, 0, 0, 0, 0, 0, 0, 0, 0, 0, 0, 0, 0, ...  \n",
       "5429  [0, 0, 0, 0, 0, 0, 0, 0, 1, 2, 0, 0, 1, 2, 0, ...  \n",
       "5430  [0, 0, 1, 2, 2, 2, 0, 0, 0, 0, 0, 0, 0, 0, 0, ...  \n",
       "5431  [0, 0, 0, 0, 0, 0, 0, 1, 2, 2, 2, 0, 0, 0, 0, ...  \n",
       "\n",
       "[5432 rows x 3 columns]"
      ]
     },
     "execution_count": 7,
     "metadata": {},
     "output_type": "execute_result"
    }
   ],
   "source": [
    "data = data[data.ner_tags.str.len() > 0]\n",
    "data"
   ]
  },
  {
   "cell_type": "code",
   "execution_count": 8,
   "metadata": {},
   "outputs": [],
   "source": [
    "val_data = val_set.to_pandas()\n",
    "val_data = val_data[val_data.ner_tags.str.len() > 0]\n",
    "\n",
    "test_data = test_set.to_pandas()\n",
    "test_data = test_data[test_data.ner_tags.str.len() > 0]"
   ]
  },
  {
   "attachments": {},
   "cell_type": "markdown",
   "metadata": {},
   "source": [
    "Setting the max_length by counting the number of tokens in the longest sequence of the dataset"
   ]
  },
  {
   "cell_type": "code",
   "execution_count": 9,
   "metadata": {},
   "outputs": [
    {
     "name": "stderr",
     "output_type": "stream",
     "text": [
      "/var/folders/8f/gqbjf14j72jb6646l_px2fcr0000gn/T/ipykernel_5939/3897620915.py:1: SettingWithCopyWarning: \n",
      "A value is trying to be set on a copy of a slice from a DataFrame.\n",
      "Try using .loc[row_indexer,col_indexer] = value instead\n",
      "\n",
      "See the caveats in the documentation: https://pandas.pydata.org/pandas-docs/stable/user_guide/indexing.html#returning-a-view-versus-a-copy\n",
      "  data[\"num_tokens\"] = data.tokens.str.len()\n"
     ]
    }
   ],
   "source": [
    "data[\"num_tokens\"] = data.tokens.str.len()"
   ]
  },
  {
   "cell_type": "code",
   "execution_count": 10,
   "metadata": {},
   "outputs": [],
   "source": [
    "MAX_LEN = data[\"num_tokens\"].max()\n",
    "BATCH_SIZE = 16"
   ]
  },
  {
   "attachments": {},
   "cell_type": "markdown",
   "metadata": {},
   "source": [
    "### Tokenizer\n",
    "Using bio-distilbert tokenizer trained on Clinical Data"
   ]
  },
  {
   "cell_type": "code",
   "execution_count": 11,
   "metadata": {},
   "outputs": [],
   "source": [
    "tokenizer = DistilBertTokenizerFast.from_pretrained('nlpie/bio-distilbert-uncased')"
   ]
  },
  {
   "cell_type": "code",
   "execution_count": 12,
   "metadata": {},
   "outputs": [],
   "source": [
    "text_tokenized = tokenizer(list(data.tokens.apply(lambda x: \" \".join(x)).to_numpy()), \n",
    "                           max_length=MAX_LEN, \n",
    "                           padding='max_length', \n",
    "                           truncation=True,\n",
    "                           return_tensors='pt')"
   ]
  },
  {
   "cell_type": "code",
   "execution_count": 13,
   "metadata": {},
   "outputs": [],
   "source": [
    "val_text_tokenized = tokenizer(list(val_data.tokens.apply(lambda x: \" \".join(x)).to_numpy()), \n",
    "                               max_length=MAX_LEN, padding='max_length', \n",
    "                               truncation=True, return_tensors='pt')\n",
    "\n",
    "test_text_tokenized = tokenizer(list(test_data.tokens.apply(lambda x: \" \".join(x)).to_numpy()), \n",
    "                                max_length=MAX_LEN, padding='max_length',\n",
    "                                truncation=True, return_tensors='pt')"
   ]
  },
  {
   "attachments": {},
   "cell_type": "markdown",
   "metadata": {},
   "source": [
    "The dataset has a tag '1' identifying the first occurence of the disease-related token and tag '2' for subsequent disease-related tokens. For our project, we will convert all disease-related tokens to have tags as '1'."
   ]
  },
  {
   "cell_type": "code",
   "execution_count": 14,
   "metadata": {},
   "outputs": [
    {
     "data": {
      "text/plain": [
       "array([0, 0, 0, 0, 0, 0, 0, 0, 1, 1, 1, 1, 0, 0, 0, 0, 0, 0, 0, 0, 0, 0,\n",
       "       0, 0, 0, 0, 0, 0, 0, 0, 0, 0, 0, 0, 0, 0, 0, 0, 0, 0, 0, 0, 0, 0,\n",
       "       0, 0, 0, 0, 0, 0, 0, 0, 0, 0, 0, 0, 0, 0, 0, 0, 0, 0, 0, 0, 0, 0,\n",
       "       0, 0, 0, 0, 0, 0, 0, 0, 0, 0, 0, 0, 0, 0, 0, 0, 0, 0, 0, 0, 0, 0,\n",
       "       0, 0, 0, 0, 0, 0, 0, 0, 0, 0, 0, 0, 0, 0, 0, 0, 0, 0, 0, 0, 0, 0,\n",
       "       0, 0, 0, 0, 0, 0, 0, 0, 0, 0, 0, 0, 0])"
      ]
     },
     "execution_count": 14,
     "metadata": {},
     "output_type": "execute_result"
    }
   ],
   "source": [
    "def update_target_tags(tag):\n",
    "    tag = np.array(tag)\n",
    "    tag[tag == 2] = 1\n",
    "    return np.pad(tag, pad_width=(0, MAX_LEN-len(tag))) # the length of each token list has been padded to max_len, hence, tag list length has to match and has to be padded\n",
    "    \n",
    "\n",
    "update_target_tags([0, 0, 0, 0, 0, 0, 0, 0, 1, 2, 2, 2, 0, 0])"
   ]
  },
  {
   "cell_type": "code",
   "execution_count": 15,
   "metadata": {},
   "outputs": [],
   "source": [
    "train_tags = data.ner_tags.apply(update_target_tags)\n",
    "val_tags = val_data.ner_tags.apply(update_target_tags)\n",
    "test_tags = test_data.ner_tags.apply(update_target_tags)"
   ]
  },
  {
   "attachments": {},
   "cell_type": "markdown",
   "metadata": {},
   "source": [
    "The tokenizer returns extra tokens to identify the start and end of each sequence. Also, the tokenizer breaks down some words into subwords. This creates a mismatch between the tokens and their corresponding tags. We need to identify the extra tokens and tag them as '-100' (disregard them) and the subword tokens all get the same tag as their respective mapped word."
   ]
  },
  {
   "cell_type": "code",
   "execution_count": 16,
   "metadata": {},
   "outputs": [],
   "source": [
    "def tokenize_and_align_labels(token_lst, tags):\n",
    "    tokenized_inputs = token_lst\n",
    "    labels = []\n",
    "    for i, label in enumerate(tags):\n",
    "        word_ids = tokenized_inputs.word_ids(batch_index=i)  # Map tokens to their respective word.\n",
    "        previous_word_idx = None\n",
    "        label_ids = []\n",
    "        for word_idx in word_ids:  # Set the special tokens to -100.\n",
    "            if word_idx is None:\n",
    "                label_ids.append(-100)\n",
    "            elif word_idx != previous_word_idx:  # Label all subwords with the same tag\n",
    "                label_ids.append(label[word_idx])\n",
    "            else:\n",
    "                label_ids.append(label[word_idx])\n",
    "            previous_word_idx = word_idx\n",
    "        labels.append(label_ids)\n",
    "\n",
    "    tokenized_inputs[\"labels\"] = np.array(labels)\n",
    "    return tokenized_inputs"
   ]
  },
  {
   "attachments": {},
   "cell_type": "markdown",
   "metadata": {},
   "source": [
    "We do not apply this to the test labels as we do not pass them to the model."
   ]
  },
  {
   "cell_type": "code",
   "execution_count": 17,
   "metadata": {},
   "outputs": [],
   "source": [
    "train_labels = tokenize_and_align_labels(text_tokenized, train_tags)[\"labels\"]\n",
    "val_labels = tokenize_and_align_labels(val_text_tokenized, val_tags)[\"labels\"]\n",
    "test_labels = tokenize_and_align_labels(test_text_tokenized, test_tags)[\"labels\"]"
   ]
  },
  {
   "attachments": {},
   "cell_type": "markdown",
   "metadata": {},
   "source": [
    "### Create a custom NCBI Dataset for the dataloader"
   ]
  },
  {
   "cell_type": "code",
   "execution_count": 18,
   "metadata": {},
   "outputs": [],
   "source": [
    "class NCBI_dataset(torch.utils.data.Dataset):\n",
    "    def __init__(self, encodings, labels):\n",
    "        self.encodings = encodings\n",
    "        self.labels = labels\n",
    "        self.size=len(self.labels)\n",
    "       \n",
    "    def __getitem__(self, idx):\n",
    "        # return self.encodings[\"input_ids\"[idx], self.labels[idx]\n",
    "        input_ids = torch.tensor(self.encodings[\"input_ids\"][idx]).squeeze()\n",
    "        target_ids = torch.tensor(self.encodings[\"attention_mask\"][idx]).squeeze()\n",
    "        tags = torch.tensor(self.labels[idx]).squeeze()\n",
    "        return input_ids,target_ids,tags\n",
    "    \n",
    "    def __len__(self):\n",
    "        return self.size"
   ]
  },
  {
   "cell_type": "code",
   "execution_count": 21,
   "metadata": {},
   "outputs": [],
   "source": [
    "train_dataset = NCBI_dataset(text_tokenized, train_labels)\n",
    "val_dataset = NCBI_dataset(val_text_tokenized, val_labels)\n",
    "test_dataset = NCBI_dataset(test_text_tokenized, test_labels)"
   ]
  },
  {
   "attachments": {},
   "cell_type": "markdown",
   "metadata": {},
   "source": [
    "### Dataloader"
   ]
  },
  {
   "cell_type": "code",
   "execution_count": 22,
   "metadata": {},
   "outputs": [],
   "source": [
    "train_dataloader = DataLoader(train_dataset, batch_size=BATCH_SIZE, shuffle=True)\n",
    "val_dataloader = DataLoader(val_dataset, batch_size=BATCH_SIZE, shuffle=True)\n",
    "test_dataloader = DataLoader(test_dataset, batch_size=BATCH_SIZE, shuffle=True)"
   ]
  },
  {
   "attachments": {},
   "cell_type": "markdown",
   "metadata": {},
   "source": [
    "# DistilBERT"
   ]
  },
  {
   "attachments": {},
   "cell_type": "markdown",
   "metadata": {},
   "source": [
    "Training and finetuning the pretrained DistilBertForTokenClassification model"
   ]
  },
  {
   "cell_type": "code",
   "execution_count": 34,
   "metadata": {},
   "outputs": [
    {
     "name": "stderr",
     "output_type": "stream",
     "text": [
      "Some weights of the model checkpoint at distilbert-base-uncased were not used when initializing DistilBertForTokenClassification: ['vocab_projector.bias', 'vocab_transform.weight', 'vocab_layer_norm.bias', 'vocab_layer_norm.weight', 'vocab_projector.weight', 'vocab_transform.bias']\n",
      "- This IS expected if you are initializing DistilBertForTokenClassification from the checkpoint of a model trained on another task or with another architecture (e.g. initializing a BertForSequenceClassification model from a BertForPreTraining model).\n",
      "- This IS NOT expected if you are initializing DistilBertForTokenClassification from the checkpoint of a model that you expect to be exactly identical (initializing a BertForSequenceClassification model from a BertForSequenceClassification model).\n",
      "Some weights of DistilBertForTokenClassification were not initialized from the model checkpoint at distilbert-base-uncased and are newly initialized: ['classifier.weight', 'classifier.bias']\n",
      "You should probably TRAIN this model on a down-stream task to be able to use it for predictions and inference.\n",
      "/Users/vidyabulusu/deeplearning/lib/python3.10/site-packages/transformers/optimization.py:391: FutureWarning: This implementation of AdamW is deprecated and will be removed in a future version. Use the PyTorch implementation torch.optim.AdamW instead, or set `no_deprecation_warning=True` to disable this warning\n",
      "  warnings.warn(\n"
     ]
    }
   ],
   "source": [
    "device = torch.device('cuda') if torch.cuda.is_available() else torch.device('cpu')\n",
    "\n",
    "distil_bert_model = DistilBertForTokenClassification.from_pretrained('distilbert-base-uncased')\n",
    "distil_bert_model.to(device)\n",
    "\n",
    "# Optimizer\n",
    "optim = AdamW(distil_bert_model.parameters(), lr=5e-5)"
   ]
  },
  {
   "cell_type": "code",
   "execution_count": 35,
   "metadata": {},
   "outputs": [
    {
     "name": "stdout",
     "output_type": "stream",
     "text": [
      "--------------------------------------------------------------------------\n",
      "Epoch: 0\n"
     ]
    },
    {
     "name": "stderr",
     "output_type": "stream",
     "text": [
      "/var/folders/8f/gqbjf14j72jb6646l_px2fcr0000gn/T/ipykernel_5939/61078976.py:9: UserWarning: To copy construct from a tensor, it is recommended to use sourceTensor.clone().detach() or sourceTensor.clone().detach().requires_grad_(True), rather than torch.tensor(sourceTensor).\n",
      "  input_ids = torch.tensor(self.encodings[\"input_ids\"][idx]).squeeze()\n",
      "/var/folders/8f/gqbjf14j72jb6646l_px2fcr0000gn/T/ipykernel_5939/61078976.py:10: UserWarning: To copy construct from a tensor, it is recommended to use sourceTensor.clone().detach() or sourceTensor.clone().detach().requires_grad_(True), rather than torch.tensor(sourceTensor).\n",
      "  target_ids = torch.tensor(self.encodings[\"attention_mask\"][idx]).squeeze()\n"
     ]
    },
    {
     "name": "stdout",
     "output_type": "stream",
     "text": [
      "Average train loss: 0.08906848286757903\n",
      "Average Validation loss: 0.047052247016208956\n",
      "Validation AUROC: 0.929693341255188\n",
      "\n",
      "--------------------------------------------------------------------------\n",
      "Epoch: 1\n",
      "Average train loss: 0.029424380803795752\n",
      "Average Validation loss: 0.01679077163912709\n",
      "Validation AUROC: 0.9542677402496338\n",
      "\n",
      "--------------------------------------------------------------------------\n",
      "Epoch: 2\n",
      "Average train loss: 0.013505682858864448\n",
      "Average Validation loss: 0.006345769787128966\n",
      "Validation AUROC: 0.9655998945236206\n",
      "\n",
      "CPU times: user 1h 5min 27s, sys: 9min 3s, total: 1h 14min 31s\n",
      "Wall time: 27min 58s\n"
     ]
    }
   ],
   "source": [
    "%%time \n",
    "\n",
    "model = distil_bert_model\n",
    "# Train the model\n",
    "# Save the average loss after each epoch; these values are used to plot the loss.\n",
    "train_loss_values, val_loss_values = [], []\n",
    "\n",
    "for epoch in range(3):\n",
    "    print('--------------------------------------------------------------------------')\n",
    "    print(f'Epoch: {epoch}')\n",
    "    \n",
    "    # Set the model to train mode\n",
    "    model.train()\n",
    "    total_loss = 0\n",
    "    total_val_loss = 0\n",
    "    for batch in train_dataloader:\n",
    "        optim.zero_grad()\n",
    "        outputs = model(batch[0], attention_mask=batch[1], labels=batch[2])\n",
    "        loss, scores = outputs[:2]\n",
    "        loss.backward()\n",
    "        total_loss += loss.item()\n",
    "        # Clip the norm of the gradient to help prevent the \"exploding gradients\" problem.\n",
    "        torch.nn.utils.clip_grad_norm_(parameters=model.parameters(), max_norm=1.0)\n",
    "        optim.step()\n",
    "    # Calculate the average loss over the training data\n",
    "    avg_train_loss = total_loss / len(train_dataloader)\n",
    "    print(\"Average train loss: {}\".format(avg_train_loss))\n",
    "\n",
    "    # Store each loss value for plotting the learning curve afterwards\n",
    "    train_loss_values.append(avg_train_loss)\n",
    "\n",
    "    # After each training epoch, measure performance on validation set\n",
    "    # Set the model into evaluation mode\n",
    "    model.eval()\n",
    "    eval_loss, eval_accuracy = 0, 0\n",
    "    predictions , true_labels = [], []\n",
    "    for batch in val_dataloader:\n",
    "        # The model must not compute or save gradients, in order to save memory and speed up this step\n",
    "        optim.zero_grad()\n",
    "            # Forward pass, compute predictions\n",
    "        outputs = model(batch[0],attention_mask=batch[1],labels=batch[2])\n",
    "        val_loss = outputs.loss\n",
    "        val_loss.backward()\n",
    "        total_val_loss += val_loss.item()\n",
    "\n",
    "        label_ids = batch[2].to(device).numpy()\n",
    "        label_ids[label_ids == -100] = 0 # If the label == -100, we need to ignore it and not use it for loss/auroc computations\n",
    "        predictions.extend(np.argmax(torch.sigmoid(outputs.logits).detach().numpy(),2))\n",
    "        true_labels.extend(label_ids)\n",
    "\n",
    "        torch.nn.utils.clip_grad_norm_(parameters=model.parameters(), max_norm=1.0)\n",
    "        optim.step()\n",
    "\n",
    "    eval_loss = total_val_loss / len(val_dataloader)\n",
    "    val_loss_values.append(eval_loss)\n",
    "    print(\"Average Validation loss: {}\".format(eval_loss))\n",
    "    auroc = AUROC(task=\"binary\")\n",
    "    print(\"Validation AUROC: {}\".format(auroc(torch.tensor(np.array(predictions)), torch.tensor(np.array(true_labels)))))\n",
    "    print()"
   ]
  },
  {
   "attachments": {},
   "cell_type": "markdown",
   "metadata": {},
   "source": [
    "### Train and validation Loss curves"
   ]
  },
  {
   "cell_type": "code",
   "execution_count": 36,
   "metadata": {},
   "outputs": [
    {
     "data": {
      "image/png": "[encoded data removed]",
      "text/plain": [
       "<Figure size 1200x600 with 1 Axes>"
      ]
     },
     "metadata": {},
     "output_type": "display_data"
    }
   ],
   "source": [
    "sns.set(style='darkgrid')\n",
    "\n",
    "sns.set(font_scale=1.5)\n",
    "plt.rcParams[\"figure.figsize\"] = (12,6)\n",
    "\n",
    "plt.plot(train_loss_values, 'b-o', label=\"training loss\")\n",
    "plt.plot(val_loss_values, 'r-o', label=\"validation loss\")\n",
    "\n",
    "plt.title(\"Learning curve\")\n",
    "plt.xlabel(\"Epoch\")\n",
    "plt.ylabel(\"Loss\")\n",
    "plt.legend()\n",
    "\n",
    "plt.show()"
   ]
  },
  {
   "attachments": {},
   "cell_type": "markdown",
   "metadata": {},
   "source": [
    "### Predictions on Test data"
   ]
  },
  {
   "cell_type": "code",
   "execution_count": 37,
   "metadata": {},
   "outputs": [
    {
     "name": "stderr",
     "output_type": "stream",
     "text": [
      "/var/folders/8f/gqbjf14j72jb6646l_px2fcr0000gn/T/ipykernel_5939/61078976.py:9: UserWarning: To copy construct from a tensor, it is recommended to use sourceTensor.clone().detach() or sourceTensor.clone().detach().requires_grad_(True), rather than torch.tensor(sourceTensor).\n",
      "  input_ids = torch.tensor(self.encodings[\"input_ids\"][idx]).squeeze()\n",
      "/var/folders/8f/gqbjf14j72jb6646l_px2fcr0000gn/T/ipykernel_5939/61078976.py:10: UserWarning: To copy construct from a tensor, it is recommended to use sourceTensor.clone().detach() or sourceTensor.clone().detach().requires_grad_(True), rather than torch.tensor(sourceTensor).\n",
      "  target_ids = torch.tensor(self.encodings[\"attention_mask\"][idx]).squeeze()\n"
     ]
    },
    {
     "name": "stdout",
     "output_type": "stream",
     "text": [
      "Average Test loss: 0.09663510799380336\n",
      "Test AUROC = 0.9176534414291382\n"
     ]
    }
   ],
   "source": [
    "# Set the model into evaluation mode\n",
    "model.eval()\n",
    "test_loss, test_accuracy = 0, 0\n",
    "predictions , true_labels = [], []\n",
    "for batch in test_dataloader:\n",
    "    optim.zero_grad()\n",
    "    outputs = model(batch[0], attention_mask=batch[1], labels=batch[2])\n",
    "    loss = outputs[0]\n",
    "    test_loss += loss.mean().item()\n",
    "    logits = outputs.logits\n",
    "    optim.step()\n",
    "\n",
    "    label_ids = batch[2].to(device).numpy()\n",
    "    predictions.extend(np.argmax(torch.sigmoid(outputs.logits).detach().numpy(),2))\n",
    "    true_labels.extend(label_ids)\n",
    "\n",
    "test_loss = test_loss / len(test_dataloader)\n",
    "print(\"Average Test loss: {}\".format(test_loss))\n",
    "auroc = AUROC(task=\"binary\")\n",
    "print(\"Test AUROC = {}\".format(auroc(torch.tensor(predictions), torch.tensor(true_labels))))"
   ]
  },
  {
   "attachments": {},
   "cell_type": "markdown",
   "metadata": {},
   "source": [
    "### Testing out a random sentence"
   ]
  },
  {
   "cell_type": "code",
   "execution_count": 40,
   "metadata": {},
   "outputs": [
    {
     "data": {
      "text/plain": [
       "{'input_ids': tensor([[  101,  1996,  5776,  7534,  2007,  1037,  2381,  1997, 14671, 11463,\n",
       "         15909,  2271, 23760, 15000,  5178, 10092,  1998, 23760, 29048, 17949,\n",
       "          1997,  2460,  2791,  1997,  3052,  1998,  3108,  3255,   102,     0,\n",
       "             0,     0,     0,     0,     0,     0,     0,     0,     0,     0,\n",
       "             0,     0,     0,     0,     0,     0,     0,     0,     0,     0,\n",
       "             0,     0,     0,     0,     0,     0,     0,     0,     0,     0,\n",
       "             0,     0,     0,     0,     0,     0,     0,     0,     0,     0,\n",
       "             0,     0,     0,     0,     0,     0,     0,     0,     0,     0,\n",
       "             0,     0,     0,     0,     0,     0,     0,     0,     0,     0,\n",
       "             0,     0,     0,     0,     0,     0,     0,     0,     0,     0,\n",
       "             0,     0,     0,     0,     0,     0,     0,     0,     0,     0,\n",
       "             0,     0,     0,     0,     0,     0,     0,     0,     0,     0,\n",
       "             0,     0,     0]]), 'attention_mask': tensor([[1, 1, 1, 1, 1, 1, 1, 1, 1, 1, 1, 1, 1, 1, 1, 1, 1, 1, 1, 1, 1, 1, 1, 1,\n",
       "         1, 1, 1, 1, 1, 0, 0, 0, 0, 0, 0, 0, 0, 0, 0, 0, 0, 0, 0, 0, 0, 0, 0, 0,\n",
       "         0, 0, 0, 0, 0, 0, 0, 0, 0, 0, 0, 0, 0, 0, 0, 0, 0, 0, 0, 0, 0, 0, 0, 0,\n",
       "         0, 0, 0, 0, 0, 0, 0, 0, 0, 0, 0, 0, 0, 0, 0, 0, 0, 0, 0, 0, 0, 0, 0, 0,\n",
       "         0, 0, 0, 0, 0, 0, 0, 0, 0, 0, 0, 0, 0, 0, 0, 0, 0, 0, 0, 0, 0, 0, 0, 0,\n",
       "         0, 0, 0]])}"
      ]
     },
     "execution_count": 40,
     "metadata": {},
     "output_type": "execute_result"
    }
   ],
   "source": [
    "test_sentence = \"\"\"\n",
    "The patient presents with a history of diabetes mellitus hyperlipidemia and hypertension complaining of shortness of breath and chest pain\n",
    "\"\"\"\n",
    "\n",
    "tokenized_sentence = tokenizer(test_sentence, max_length=MAX_LEN, padding='max_length', truncation=True, return_tensors='pt',\n",
    "                            #    return_offsets_mapping=True\n",
    "                            )\n",
    "tokenized_sentence"
   ]
  },
  {
   "cell_type": "code",
   "execution_count": 41,
   "metadata": {},
   "outputs": [
    {
     "data": {
      "text/plain": [
       "array([[0, 0, 0, 0, 0, 0, 0, 0, 1, 1, 1, 1, 1, 1, 1, 1, 0, 1, 1, 0, 0, 1,\n",
       "        1, 1, 1, 1, 1, 1, 0, 0, 0, 0, 0, 0, 0, 0, 0, 0, 0, 1, 1, 1, 1, 0,\n",
       "        1, 0, 0, 1, 0, 1, 1, 1, 1, 1, 1, 0, 0, 0, 0, 0, 0, 0, 0, 0, 1, 1,\n",
       "        0, 1, 1, 1, 1, 1, 1, 0, 0, 0, 1, 1, 1, 1, 1, 1, 1, 0, 0, 0, 0, 0,\n",
       "        0, 0, 0, 0, 0, 1, 1, 1, 0, 1, 1, 1, 1, 0, 1, 0, 0, 1, 1, 1, 1, 1,\n",
       "        1, 1, 0, 0, 0, 0, 0, 0, 0, 1, 1, 0, 1]])"
      ]
     },
     "execution_count": 41,
     "metadata": {},
     "output_type": "execute_result"
    }
   ],
   "source": [
    "# input_ids = torch.tensor([tokenized_sentence])\n",
    "with torch.no_grad():\n",
    "    model.eval()\n",
    "    output = model(input_ids=tokenized_sentence[\"input_ids\"], \n",
    "                   attention_mask=tokenized_sentence[\"attention_mask\"])\n",
    "label_indices = np.argmax(torch.sigmoid(output.logits).detach().numpy(),2)\n",
    "label_indices"
   ]
  },
  {
   "cell_type": "code",
   "execution_count": 43,
   "metadata": {},
   "outputs": [],
   "source": [
    "tokens = tokenizer.convert_ids_to_tokens(tokenized_sentence[\"input_ids\"].to('cpu').numpy()[0])"
   ]
  },
  {
   "cell_type": "code",
   "execution_count": 44,
   "metadata": {},
   "outputs": [
    {
     "name": "stdout",
     "output_type": "stream",
     "text": [
      "[CLS]  -->  0\n",
      "the  -->  0\n",
      "patient  -->  0\n",
      "presents  -->  0\n",
      "with  -->  0\n",
      "a  -->  0\n",
      "history  -->  0\n",
      "of  -->  0\n",
      "diabetes  -->  1\n",
      "mel  -->  1\n",
      "##lit  -->  1\n",
      "##us  -->  1\n",
      "hyper  -->  1\n",
      "##lip  -->  1\n",
      "##ide  -->  1\n",
      "##mia  -->  1\n",
      "and  -->  0\n",
      "hyper  -->  1\n",
      "##tension  -->  1\n",
      "complaining  -->  0\n",
      "of  -->  0\n",
      "short  -->  1\n",
      "##ness  -->  1\n",
      "of  -->  1\n",
      "breath  -->  1\n",
      "and  -->  1\n",
      "chest  -->  1\n",
      "pain  -->  1\n"
     ]
    }
   ],
   "source": [
    "counter =0 \n",
    "for i in range(len(tokens)):\n",
    "    if (tokens[i]=='[SEP]'):\n",
    "        break\n",
    "    print (tokens[i],\" --> \", label_indices[0][counter])\n",
    "    counter = counter+1"
   ]
  },
  {
   "cell_type": "code",
   "execution_count": 45,
   "metadata": {},
   "outputs": [
    {
     "name": "stdout",
     "output_type": "stream",
     "text": [
      "[CLS]  -->  0\n",
      "the  -->  0\n",
      "patient  -->  0\n",
      "presents  -->  0\n",
      "with  -->  0\n",
      "a  -->  0\n",
      "history  -->  0\n",
      "of  -->  0\n",
      "diabetes  -->  1\n",
      "mellitus  -->  1\n",
      "hyperlipidemia  -->  1\n",
      "and  -->  0\n",
      "hypertension  -->  1\n",
      "complaining  -->  0\n",
      "of  -->  0\n",
      "shortness  -->  1\n",
      "of  -->  1\n",
      "breath  -->  1\n",
      "and  -->  1\n",
      "chest  -->  1\n",
      "pain  -->  1\n"
     ]
    }
   ],
   "source": [
    "new_tokens= []\n",
    "new_labels = []\n",
    "for token, tag in zip(tokens, label_indices[0]):\n",
    "    if (token =='[SEP]'):\n",
    "        break\n",
    "    if token.startswith(\"##\"):\n",
    "        new_tokens[-1] = new_tokens[-1] + token[2:]\n",
    "        new_labels[-1] = max(new_labels[-1], tag)\n",
    "    else:\n",
    "        new_tokens.append(token)\n",
    "        new_labels.append(tag)\n",
    "\n",
    "\n",
    "for token, tag in zip(new_tokens, new_labels):\n",
    "    print (token,\" --> \", tag)"
   ]
  },
  {
   "attachments": {},
   "cell_type": "markdown",
   "metadata": {},
   "source": [
    "# NanoBERT"
   ]
  },
  {
   "attachments": {},
   "cell_type": "markdown",
   "metadata": {},
   "source": [
    "Training and finetuning the pretrained NanoBertForTokenClassification model"
   ]
  },
  {
   "cell_type": "code",
   "execution_count": 23,
   "metadata": {},
   "outputs": [
    {
     "name": "stderr",
     "output_type": "stream",
     "text": [
      "/Users/vidyabulusu/deeplearning/lib/python3.10/site-packages/transformers/optimization.py:391: FutureWarning: This implementation of AdamW is deprecated and will be removed in a future version. Use the PyTorch implementation torch.optim.AdamW instead, or set `no_deprecation_warning=True` to disable this warning\n",
      "  warnings.warn(\n"
     ]
    }
   ],
   "source": [
    "device = torch.device('cuda') if torch.cuda.is_available() else torch.device('cpu')\n",
    "\n",
    "base_model = nano.NanoBert(nano.NanoBertConfig())\n",
    "base_model.load_state_dict(torch.load(\"./NanoBERT/nanobert/weights1.pt\"))\n",
    "nano_bert_model = nano.NanoBertForTokenClassification(base_model, out_features=MAX_LEN).to(device)\n",
    "nano_bert_model.to(device)\n",
    "\n",
    "# Optimizer\n",
    "optim = AdamW(nano_bert_model.parameters(), lr=5e-5)\n",
    "token_type_ids = torch.tensor(np.zeros(MAX_LEN)).to(torch.int64)"
   ]
  },
  {
   "cell_type": "code",
   "execution_count": 24,
   "metadata": {},
   "outputs": [
    {
     "name": "stdout",
     "output_type": "stream",
     "text": [
      "--------------------------------------------------------------------------\n",
      "Epoch: 0\n"
     ]
    },
    {
     "name": "stderr",
     "output_type": "stream",
     "text": [
      "/var/folders/8f/gqbjf14j72jb6646l_px2fcr0000gn/T/ipykernel_5939/61078976.py:9: UserWarning: To copy construct from a tensor, it is recommended to use sourceTensor.clone().detach() or sourceTensor.clone().detach().requires_grad_(True), rather than torch.tensor(sourceTensor).\n",
      "  input_ids = torch.tensor(self.encodings[\"input_ids\"][idx]).squeeze()\n",
      "/var/folders/8f/gqbjf14j72jb6646l_px2fcr0000gn/T/ipykernel_5939/61078976.py:10: UserWarning: To copy construct from a tensor, it is recommended to use sourceTensor.clone().detach() or sourceTensor.clone().detach().requires_grad_(True), rather than torch.tensor(sourceTensor).\n",
      "  target_ids = torch.tensor(self.encodings[\"attention_mask\"][idx]).squeeze()\n"
     ]
    },
    {
     "name": "stdout",
     "output_type": "stream",
     "text": [
      "Average train loss: 2.2222707439871394\n",
      "Average Validation loss: 0.6584718098928188\n",
      "Validation AUROC: 0.5\n",
      "\n",
      "--------------------------------------------------------------------------\n",
      "Epoch: 1\n"
     ]
    },
    {
     "name": "stderr",
     "output_type": "stream",
     "text": [
      "<timed exec>:74: UserWarning: Creating a tensor from a list of numpy.ndarrays is extremely slow. Please consider converting the list to a single numpy.ndarray with numpy.array() before converting to a tensor. (Triggered internally at /Users/runner/work/pytorch/pytorch/pytorch/torch/csrc/utils/tensor_new.cpp:248.)\n"
     ]
    },
    {
     "name": "stdout",
     "output_type": "stream",
     "text": [
      "Average train loss: 0.4657478180001764\n",
      "Average Validation loss: 0.3464811660092452\n",
      "Validation AUROC: 0.5044569969177246\n",
      "\n",
      "--------------------------------------------------------------------------\n",
      "Epoch: 2\n",
      "Average train loss: 0.3201586440643843\n",
      "Average Validation loss: 0.27845208167002117\n",
      "Validation AUROC: 0.5900686383247375\n",
      "\n",
      "--------------------------------------------------------------------------\n",
      "Epoch: 3\n",
      "Average train loss: 0.2677693942890448\n",
      "Average Validation loss: 0.24232558957461653\n",
      "Validation AUROC: 0.6627005338668823\n",
      "\n",
      "--------------------------------------------------------------------------\n",
      "Epoch: 4\n",
      "Average train loss: 0.23739189332460656\n",
      "Average Validation loss: 0.21602750364048728\n",
      "Validation AUROC: 0.7210975885391235\n",
      "\n",
      "--------------------------------------------------------------------------\n",
      "Epoch: 5\n",
      "Average train loss: 0.21508779444676987\n",
      "Average Validation loss: 0.1958036814527265\n",
      "Validation AUROC: 0.7519999146461487\n",
      "\n",
      "--------------------------------------------------------------------------\n",
      "Epoch: 6\n",
      "Average train loss: 0.19851818877984495\n",
      "Average Validation loss: 0.18123341672893228\n",
      "Validation AUROC: 0.7744668126106262\n",
      "\n",
      "--------------------------------------------------------------------------\n",
      "Epoch: 7\n",
      "Average train loss: 0.18447789651725222\n",
      "Average Validation loss: 0.16867008150137705\n",
      "Validation AUROC: 0.7951233386993408\n",
      "\n",
      "--------------------------------------------------------------------------\n",
      "Epoch: 8\n",
      "Average train loss: 0.17219245972878794\n",
      "Average Validation loss: 0.15711713685043927\n",
      "Validation AUROC: 0.8156177401542664\n",
      "\n",
      "--------------------------------------------------------------------------\n",
      "Epoch: 9\n",
      "Average train loss: 0.16131016818039556\n",
      "Average Validation loss: 0.14836102415775432\n",
      "Validation AUROC: 0.8276404142379761\n",
      "\n",
      "CPU times: user 8min 29s, sys: 1min 31s, total: 10min 1s\n",
      "Wall time: 3min 5s\n"
     ]
    }
   ],
   "source": [
    "%%time\n",
    "\n",
    "model = nano_bert_model\n",
    "train_loss_values, val_loss_values = [], []\n",
    "\n",
    "for epoch in range(10):\n",
    "    print('--------------------------------------------------------------------------')\n",
    "    print(f'Epoch: {epoch}')\n",
    "    model.train()\n",
    "    total_loss = 0\n",
    "    total_val_loss = 0\n",
    "    for batch in train_dataloader:\n",
    "        optim.zero_grad()\n",
    "        outputs = model(batch[0], attention_mask=batch[1], token_type_ids=token_type_ids)\n",
    "        loss = None\n",
    "        labels = batch[2]\n",
    "        if labels is not None:\n",
    "            loss_fct = CrossEntropyLoss(ignore_index=-100)\n",
    "            if batch[1] is not None:\n",
    "                active_loss = batch[1].view(-1) == 1\n",
    "                active_logits = outputs.logits.view(-1, MAX_LEN)\n",
    "                active_labels = torch.where(\n",
    "                    active_loss, labels.view(-1), torch.tensor(loss_fct.ignore_index).type_as(labels)\n",
    "                )\n",
    "                loss = loss_fct(active_logits, active_labels)\n",
    "            else:\n",
    "                loss = loss_fct(outputs.logits.view(-1, MAX_LEN), labels.view(-1))\n",
    "        loss.backward()\n",
    "        total_loss += loss.item()\n",
    "        torch.nn.utils.clip_grad_norm_(parameters=model.parameters(), max_norm=1.0)\n",
    "        optim.step()\n",
    "    \n",
    "    # Calculate the average loss over the training data\n",
    "    avg_train_loss = total_loss / len(train_dataloader)\n",
    "    print(\"Average train loss: {}\".format(avg_train_loss))\n",
    "\n",
    "    # Store each loss value for plotting the learning curve afterwards\n",
    "    train_loss_values.append(avg_train_loss)\n",
    "\n",
    "    model.eval()\n",
    "    eval_loss, eval_accuracy = 0, 0\n",
    "    predictions , true_labels = [], []\n",
    "\n",
    "    for batch in val_dataloader:\n",
    "        optim.zero_grad()\n",
    "        outputs = model(batch[0], attention_mask=batch[1], token_type_ids=token_type_ids)\n",
    "        # val_loss = torch.nn.functional.cross_entropy(outputs.logits.view(-1, outputs.logits.shape[-1]), batch[2].view(-1), reduction='mean', ignore_index=-100)\n",
    "        val_loss = None\n",
    "        labels = batch[2]\n",
    "        if labels is not None:\n",
    "            loss_fct = CrossEntropyLoss(ignore_index=-100)\n",
    "            if batch[1] is not None:\n",
    "                active_loss = batch[1].view(-1) == 1\n",
    "                active_logits = outputs.logits.view(-1, MAX_LEN)\n",
    "                active_labels = torch.where(\n",
    "                    active_loss, labels.view(-1), torch.tensor(loss_fct.ignore_index).type_as(labels)\n",
    "                )\n",
    "                val_loss = loss_fct(active_logits, active_labels)\n",
    "            else:\n",
    "                val_loss = loss_fct(outputs.logits.view(-1, MAX_LEN), labels.view(-1))\n",
    "        val_loss.backward()\n",
    "        total_val_loss += val_loss.item()\n",
    "\n",
    "        label_ids = batch[2].to(device).numpy()\n",
    "        label_ids[label_ids == -1] = 0\n",
    "        predictions.extend(np.argmax(torch.sigmoid(outputs.logits).detach().numpy(),2))\n",
    "        true_labels.extend(label_ids)\n",
    "\n",
    "        torch.nn.utils.clip_grad_norm_(parameters=model.parameters(), max_norm=1.0)\n",
    "        optim.step()\n",
    "\n",
    "    eval_loss = total_val_loss / len(val_dataloader)\n",
    "    val_loss_values.append(eval_loss)\n",
    "    print(\"Average Validation loss: {}\".format(eval_loss))\n",
    "    auroc = AUROC(task=\"binary\")\n",
    "    print(\"Validation AUROC: {}\".format(auroc(torch.tensor(predictions), torch.tensor(true_labels))))\n",
    "    print()"
   ]
  },
  {
   "attachments": {},
   "cell_type": "markdown",
   "metadata": {},
   "source": [
    "### Train and validation Loss curves"
   ]
  },
  {
   "cell_type": "code",
   "execution_count": 25,
   "metadata": {},
   "outputs": [
    {
     "data": {
      "image/png": "[encoded data removed]",
      "text/plain": [
       "<Figure size 1200x600 with 1 Axes>"
      ]
     },
     "metadata": {},
     "output_type": "display_data"
    }
   ],
   "source": [
    "sns.set(style='darkgrid')\n",
    "\n",
    "sns.set(font_scale=1.5)\n",
    "plt.rcParams[\"figure.figsize\"] = (12,6)\n",
    "\n",
    "plt.plot(train_loss_values, 'b-o', label=\"training loss\")\n",
    "plt.plot(val_loss_values, 'r-o', label=\"validation loss\")\n",
    "\n",
    "plt.title(\"Learning curve\")\n",
    "plt.xlabel(\"Epoch\")\n",
    "plt.ylabel(\"Loss\")\n",
    "plt.legend()\n",
    "\n",
    "plt.show()"
   ]
  },
  {
   "attachments": {},
   "cell_type": "markdown",
   "metadata": {},
   "source": [
    "### Predictions on Test Data"
   ]
  },
  {
   "cell_type": "code",
   "execution_count": 26,
   "metadata": {},
   "outputs": [
    {
     "name": "stderr",
     "output_type": "stream",
     "text": [
      "/var/folders/8f/gqbjf14j72jb6646l_px2fcr0000gn/T/ipykernel_5939/61078976.py:9: UserWarning: To copy construct from a tensor, it is recommended to use sourceTensor.clone().detach() or sourceTensor.clone().detach().requires_grad_(True), rather than torch.tensor(sourceTensor).\n",
      "  input_ids = torch.tensor(self.encodings[\"input_ids\"][idx]).squeeze()\n",
      "/var/folders/8f/gqbjf14j72jb6646l_px2fcr0000gn/T/ipykernel_5939/61078976.py:10: UserWarning: To copy construct from a tensor, it is recommended to use sourceTensor.clone().detach() or sourceTensor.clone().detach().requires_grad_(True), rather than torch.tensor(sourceTensor).\n",
      "  target_ids = torch.tensor(self.encodings[\"attention_mask\"][idx]).squeeze()\n"
     ]
    },
    {
     "name": "stdout",
     "output_type": "stream",
     "text": [
      "Test AUROC = 0.8278783559799194\n"
     ]
    }
   ],
   "source": [
    "model.eval()\n",
    "test_loss, test_accuracy = 0, 0\n",
    "predictions , true_labels = [], []\n",
    "for batch in test_dataloader:\n",
    "    optim.zero_grad()\n",
    "    outputs = model(batch[0],attention_mask=batch[1],token_type_ids=token_type_ids)\n",
    "    logits = outputs.logits\n",
    "    optim.step()\n",
    "\n",
    "    label_ids = batch[2].to(device).numpy()\n",
    "    predictions.extend(np.argmax(torch.sigmoid(outputs.logits).detach().numpy(), 2))\n",
    "    true_labels.extend(label_ids)\n",
    "\n",
    "auroc = AUROC(task=\"binary\")\n",
    "print(\"Test AUROC = {}\".format(auroc(torch.tensor(predictions), torch.tensor(true_labels))))"
   ]
  },
  {
   "attachments": {},
   "cell_type": "markdown",
   "metadata": {},
   "source": [
    "### Testing a random sentence"
   ]
  },
  {
   "cell_type": "code",
   "execution_count": 28,
   "metadata": {},
   "outputs": [
    {
     "data": {
      "text/plain": [
       "{'input_ids': tensor([[  101,  1996,  5776,  7534,  2007,  1037,  2381,  1997, 14671, 11463,\n",
       "         15909,  2271, 23760, 15000,  5178, 10092,  1998, 23760, 29048, 17949,\n",
       "          1997,  2460,  2791,  1997,  3052,  1998,  3108,  3255,   102,     0,\n",
       "             0,     0,     0,     0,     0,     0,     0,     0,     0,     0,\n",
       "             0,     0,     0,     0,     0,     0,     0,     0,     0,     0,\n",
       "             0,     0,     0,     0,     0,     0,     0,     0,     0,     0,\n",
       "             0,     0,     0,     0,     0,     0,     0,     0,     0,     0,\n",
       "             0,     0,     0,     0,     0,     0,     0,     0,     0,     0,\n",
       "             0,     0,     0,     0,     0,     0,     0,     0,     0,     0,\n",
       "             0,     0,     0,     0,     0,     0,     0,     0,     0,     0,\n",
       "             0,     0,     0,     0,     0,     0,     0,     0,     0,     0,\n",
       "             0,     0,     0,     0,     0,     0,     0,     0,     0,     0,\n",
       "             0,     0,     0]]), 'attention_mask': tensor([[1, 1, 1, 1, 1, 1, 1, 1, 1, 1, 1, 1, 1, 1, 1, 1, 1, 1, 1, 1, 1, 1, 1, 1,\n",
       "         1, 1, 1, 1, 1, 0, 0, 0, 0, 0, 0, 0, 0, 0, 0, 0, 0, 0, 0, 0, 0, 0, 0, 0,\n",
       "         0, 0, 0, 0, 0, 0, 0, 0, 0, 0, 0, 0, 0, 0, 0, 0, 0, 0, 0, 0, 0, 0, 0, 0,\n",
       "         0, 0, 0, 0, 0, 0, 0, 0, 0, 0, 0, 0, 0, 0, 0, 0, 0, 0, 0, 0, 0, 0, 0, 0,\n",
       "         0, 0, 0, 0, 0, 0, 0, 0, 0, 0, 0, 0, 0, 0, 0, 0, 0, 0, 0, 0, 0, 0, 0, 0,\n",
       "         0, 0, 0]])}"
      ]
     },
     "execution_count": 28,
     "metadata": {},
     "output_type": "execute_result"
    }
   ],
   "source": [
    "test_sentence = \"\"\"\n",
    "The patient presents with a history of diabetes mellitus hyperlipidemia and hypertension complaining of shortness of breath and chest pain\n",
    "\"\"\"\n",
    "# test_sentence = 'hyperlipidemia'\n",
    "\n",
    "tokenized_sentence = tokenizer(test_sentence, max_length=MAX_LEN, padding='max_length', truncation=True, return_tensors='pt',\n",
    "                            #    return_offsets_mapping=True\n",
    "                            )\n",
    "tokenized_sentence"
   ]
  },
  {
   "cell_type": "code",
   "execution_count": 29,
   "metadata": {},
   "outputs": [
    {
     "data": {
      "text/plain": [
       "array([[0, 0, 0, 0, 0, 0, 0, 0, 0, 1, 1, 1, 1, 1, 1, 1, 0, 1, 1, 0, 0, 0,\n",
       "        0, 0, 1, 0, 0, 0, 0, 0, 0, 0, 0, 0, 0, 0, 0, 0, 0, 0, 0, 0, 0, 0,\n",
       "        0, 0, 0, 0, 0, 0, 0, 0, 0, 0, 0, 0, 0, 0, 0, 0, 0, 0, 0, 0, 0, 0,\n",
       "        0, 0, 0, 0, 0, 0, 0, 0, 0, 0, 0, 0, 0, 0, 0, 0, 0, 0, 0, 0, 0, 0,\n",
       "        0, 0, 0, 0, 0, 0, 0, 0, 0, 0, 0, 0, 0, 0, 0, 0, 0, 0, 0, 0, 0, 0,\n",
       "        0, 0, 0, 0, 0, 0, 0, 0, 0, 0, 0, 0, 0]])"
      ]
     },
     "execution_count": 29,
     "metadata": {},
     "output_type": "execute_result"
    }
   ],
   "source": [
    "# input_ids = torch.tensor([tokenized_sentence])\n",
    "with torch.no_grad():\n",
    "    model.eval()\n",
    "    output = model(input_ids=tokenized_sentence[\"input_ids\"], \n",
    "                   attention_mask=tokenized_sentence[\"attention_mask\"], \n",
    "                   token_type_ids=token_type_ids)\n",
    "label_indices = np.argmax(torch.sigmoid(output.logits).detach().numpy(),2)\n",
    "label_indices"
   ]
  },
  {
   "cell_type": "code",
   "execution_count": 30,
   "metadata": {},
   "outputs": [],
   "source": [
    "tokens = tokenizer.convert_ids_to_tokens(tokenized_sentence[\"input_ids\"].to('cpu').numpy()[0])\n",
    "# tokens"
   ]
  },
  {
   "cell_type": "code",
   "execution_count": 31,
   "metadata": {},
   "outputs": [],
   "source": [
    "counter =0 \n",
    "for i in range(len(tokens)):\n",
    "    if (tokens[i]=='[SEP]'):\n",
    "        break\n",
    "    # print (tokens[i],\" --> \", label_indices[0][counter])\n",
    "    counter = counter+1"
   ]
  },
  {
   "cell_type": "code",
   "execution_count": 32,
   "metadata": {},
   "outputs": [
    {
     "name": "stdout",
     "output_type": "stream",
     "text": [
      "[CLS]  -->  0\n",
      "the  -->  0\n",
      "patient  -->  0\n",
      "presents  -->  0\n",
      "with  -->  0\n",
      "a  -->  0\n",
      "history  -->  0\n",
      "of  -->  0\n",
      "diabetes  -->  0\n",
      "mellitus  -->  1\n",
      "hyperlipidemia  -->  1\n",
      "and  -->  0\n",
      "hypertension  -->  1\n",
      "complaining  -->  0\n",
      "of  -->  0\n",
      "shortness  -->  0\n",
      "of  -->  0\n",
      "breath  -->  1\n",
      "and  -->  0\n",
      "chest  -->  0\n",
      "pain  -->  0\n"
     ]
    }
   ],
   "source": [
    "new_tokens= []\n",
    "new_labels = []\n",
    "for token, tag in zip(tokens, label_indices[0]):\n",
    "    if (token =='[SEP]'):\n",
    "        break\n",
    "    if token.startswith(\"##\"):\n",
    "        new_tokens[-1] = new_tokens[-1] + token[2:]\n",
    "        new_labels[-1] = max(new_labels[-1], tag)\n",
    "    else:\n",
    "        new_tokens.append(token)\n",
    "        new_labels.append(tag)\n",
    "\n",
    "\n",
    "for token, tag in zip(new_tokens, new_labels):\n",
    "    print (token,\" --> \", tag)"
   ]
  }
 ],
 "metadata": {
  "kernelspec": {
   "display_name": "Python 3",
   "language": "python",
   "name": "python3"
  },
  "language_info": {
   "codemirror_mode": {
    "name": "ipython",
    "version": 3
   },
   "file_extension": ".py",
   "mimetype": "text/x-python",
   "name": "python",
   "nbconvert_exporter": "python",
   "pygments_lexer": "ipython3",
   "version": "3.10.9"
  },
  "orig_nbformat": 4
 },
 "nbformat": 4,
 "nbformat_minor": 2
}
